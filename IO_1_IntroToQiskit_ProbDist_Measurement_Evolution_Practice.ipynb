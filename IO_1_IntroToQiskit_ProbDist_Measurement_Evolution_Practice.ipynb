{
 "cells": [
  {
   "cell_type": "markdown",
   "metadata": {
    "colab_type": "text",
    "id": "gw0CK-wc4g9R"
   },
   "source": [
    "# Classical probability distributions\n",
    "\n",
    "**Exercise 1** (1 point). Recall that in classical con flipping, get heads with probability $P(X=0) = p_0$ and tails with $P(X=1) = p_1$ for each toss of the coin, where $p_i\\geq 0$ for all $i$, and the probabilities sum to one: $\\sum_i p_i = 1$. Create a sample with a 1000 data points using numpy, with a probability of getting tails being 0.3. This is the parameter that the `binomial` function takes. Store the outcome in an array called `x_data`."
   ]
  },
  {
   "cell_type": "code",
   "execution_count": 1,
   "metadata": {
    "colab": {},
    "colab_type": "code",
    "id": "OUGXnvJ1Dr5E"
   },
   "outputs": [],
   "source": [
    "import qiskit \n",
    "import numpy as np"
   ]
  },
  {
   "cell_type": "code",
   "execution_count": 2,
   "metadata": {
    "ExecuteTime": {
     "end_time": "2018-11-19T19:47:57.736024Z",
     "start_time": "2018-11-19T19:47:57.668891Z"
    },
    "colab": {},
    "colab_type": "code",
    "id": "BiOcy3a34g9T"
   },
   "outputs": [],
   "source": [
    "n_samples = 1000\n",
    "#\n",
    "# YOUR CODE HERE\n",
    "p_1 = 0.3\n",
    "x_data = np.random.binomial(1, p_1, n_samples)\n"
   ]
  },
  {
   "cell_type": "code",
   "execution_count": 3,
   "metadata": {
    "colab": {},
    "colab_type": "code",
    "id": "0toAwKql4g9X",
    "nbgrader": {
     "grade": true,
     "grade_id": "score1",
     "locked": true,
     "points": "1",
     "solution": false
    }
   },
   "outputs": [],
   "source": [
    "assert type(x_data) is np.ndarray\n",
    "assert abs(p_1-x_data.sum()/n_samples) < 0.05"
   ]
  },
  {
   "cell_type": "markdown",
   "metadata": {
    "colab_type": "text",
    "id": "6h2XpzgF4g9c"
   },
   "source": [
    "**Exercise 2** (1 point). As you recall, we may also write the probability distribution as a stochastic vector $\\vec{p} = \\begin{bmatrix} p_0 \\\\ p_1 \\end{bmatrix}$. The normalization constraint on the probability distribution says that the norm of the vector is restricted to one in the $l_1$ norm. In other words, $||\\vec{p}||_1 = \\sum_i |p_i| = 1$. This would be the unit circle in the $l_1$ norm, but since $p_i\\geq 0$, we are restricted to a quarter of the unit circle, just as we plotted above. Write a function that checks whether a given two-dimensional vector is a stochastic vector. That is, it should return `True` if all elements are positive and the 1-norm is approximately one, and it should return `False` otherwise. The input of the function is a numpy array."
   ]
  },
  {
   "cell_type": "code",
   "execution_count": 4,
   "metadata": {
    "ExecuteTime": {
     "end_time": "2018-11-19T19:47:58.267761Z",
     "start_time": "2018-11-19T19:47:58.257885Z"
    },
    "colab": {},
    "colab_type": "code",
    "id": "wGa7DHpa4g9d"
   },
   "outputs": [],
   "source": [
    "def is_stochastic_vector(p: np.array):\n",
    "    #\n",
    "    # YOUR CODE HERE\n",
    "    abs_p = np.abs(p)\n",
    "    the_sum = np.sum(abs_p)\n",
    "    if  (np.all(p) >= 0 and abs(the_sum - 1) <= 0.05) :\n",
    "      return True\n",
    "    else :\n",
    "      return False"
   ]
  },
  {
   "cell_type": "code",
   "execution_count": 5,
   "metadata": {
    "colab": {},
    "colab_type": "code",
    "id": "buZpTclj4g9f",
    "nbgrader": {
     "grade": true,
     "grade_id": "score2",
     "locked": true,
     "points": "1",
     "solution": false
    }
   },
   "outputs": [],
   "source": [
    "assert is_stochastic_vector(np.array([0.2, 0.3])) is False\n",
    "assert is_stochastic_vector(np.array([-0.2, 0.7])) is False\n",
    "assert is_stochastic_vector(np.array([0.2, 0.8])) is True"
   ]
  },
  {
   "cell_type": "markdown",
   "metadata": {
    "colab_type": "text",
    "id": "N9hmUis74g9i"
   },
   "source": [
    "**Exercise 3** (1 point). The probability of heads is just the first element in the $\\vec{p}$ and we can use a projection to extract it. For the first element of the stochastic vector, the projection is described by the matrix $\\begin{bmatrix} 1 & 0\\\\0 & 0\\end{bmatrix}$. Write a function that performs this projection on a two-element vector described by a numpy array. Your output after the projection is also a two-element vector."
   ]
  },
  {
   "cell_type": "code",
   "execution_count": 6,
   "metadata": {
    "ExecuteTime": {
     "end_time": "2018-11-19T19:47:58.296678Z",
     "start_time": "2018-11-19T19:47:58.272116Z"
    },
    "colab": {},
    "colab_type": "code",
    "id": "gAhTu7sy4g9j"
   },
   "outputs": [],
   "source": [
    "def project_to_first_basis_vector(p: np.array):\n",
    "    #\n",
    "    # YOUR CODE HERE\n",
    "  return p@[[1, 0], [0, 0]]"
   ]
  },
  {
   "cell_type": "code",
   "execution_count": 7,
   "metadata": {
    "colab": {},
    "colab_type": "code",
    "id": "fQXsknBI4g9m",
    "nbgrader": {
     "grade": true,
     "grade_id": "score3",
     "locked": true,
     "points": "1",
     "solution": false
    }
   },
   "outputs": [],
   "source": [
    "assert np.alltrue(project_to_first_basis_vector(np.array([0.2, 0.3])) == np.array([0.2, 0.])) == True\n",
    "assert np.alltrue(project_to_first_basis_vector(np.array([1., 0.])) == np.array([1., 0.])) == True"
   ]
  },
  {
   "cell_type": "markdown",
   "metadata": {
    "colab_type": "text",
    "id": "GWH_lLEn4g9p"
   },
   "source": [
    "**Exercise 4** (1 point). The projection operators introduce some linear algebra to working with probability distributions. We can also use linear algebra to transform one probability distribution to another. A left *stochastic matrix* will map stochastic vectors to stochastic vectors when multiplied from the left: its columns add up to one. Write a function that takes a matrix and a vector as input arguments (both are numpy arrays), checks whether the vector is a stochastic vector and whether the matrix is left stochastic. If they are, return the matrix applied to the vector, otherwise raise a `ValueError`. You can call the function `is_stochastic_vector` that you defined above."
   ]
  },
  {
   "cell_type": "code",
   "execution_count": 8,
   "metadata": {
    "colab": {},
    "colab_type": "code",
    "id": "LCU9so0H4g9q"
   },
   "outputs": [],
   "source": [
    "def apply_stochastic_matrix(p: np.array, M: np.array):\n",
    "    \"\"\"Apply the matrix M to the vector p, but only if\n",
    "    p is a stochastic vector and M is a left stochastic\n",
    "    matrix. Otherwise raise a ValueError.\n",
    "    \"\"\"\n",
    "    #\n",
    "    # YOUR CODE HERE\n",
    "    left = M@p\n",
    "    if (is_stochastic_vector(p)) :\n",
    "      for m in M.T :\n",
    "        if (is_stochastic_vector(m) == False) :\n",
    "          raise ValueError('Not a left stochastic matrix.')\n",
    "      return left\n",
    "    raise ValueError('P is not a stochastic vector.')  "
   ]
  },
  {
   "cell_type": "code",
   "execution_count": 9,
   "metadata": {
    "colab": {},
    "colab_type": "code",
    "id": "0TpYuHBj4g9s",
    "nbgrader": {
     "grade": true,
     "grade_id": "score4",
     "locked": true,
     "points": "1",
     "solution": false
    }
   },
   "outputs": [],
   "source": [
    "p = np.array([[.5], [.5]])\n",
    "M = np.array([[0.7, 0.6], [0.3, 0.4]])\n",
    "assert abs(np.linalg.norm(apply_stochastic_matrix(p, M), ord=1)-1) < 0.01\n",
    "M = np.array([[0.7, 0.6], [0.3, 0.5]])\n",
    "try:\n",
    "    apply_stochastic_matrix(p, M)\n",
    "except ValueError:\n",
    "    pass\n",
    "else:\n",
    "    raise AssertionError(\"did not raise\")"
   ]
  },
  {
   "cell_type": "markdown",
   "metadata": {
    "colab_type": "text",
    "id": "NZZ7au964g9v"
   },
   "source": [
    "**Exercise 5** (1 point). Create a left stochastic matrix in a variable called `M` that transforms the uniform distribution $\\vec{p}= \\begin{bmatrix} 0.5 \\\\ 0.5 \\end{bmatrix}$ to $\\begin{bmatrix} 0.6 \\\\ 0.4 \\end{bmatrix}$. `M` should be a two-dimensional numpy array."
   ]
  },
  {
   "cell_type": "code",
   "execution_count": 10,
   "metadata": {
    "colab": {
     "base_uri": "https://localhost:8080/",
     "height": 51
    },
    "colab_type": "code",
    "id": "VnRVrBuF4g9w",
    "outputId": "17ea9031-18fa-4c68-e108-e9c1a7d6f222"
   },
   "outputs": [
    {
     "name": "stdout",
     "output_type": "stream",
     "text": [
      "[[0.6 0.6]\n",
      " [0.4 0.4]]\n"
     ]
    }
   ],
   "source": [
    "#\n",
    "# YOUR CODE HERE\n",
    "M = np.array([[0.6, 0.6], [0.4, 0.4]])\n",
    "\n",
    "print(M)"
   ]
  },
  {
   "cell_type": "code",
   "execution_count": 11,
   "metadata": {
    "ExecuteTime": {
     "end_time": "2018-11-19T19:47:58.829415Z",
     "start_time": "2018-11-19T19:47:58.337314Z"
    },
    "colab": {},
    "colab_type": "code",
    "id": "ARP9MWa04g9y",
    "nbgrader": {
     "grade": true,
     "grade_id": "score5",
     "locked": true,
     "points": "1",
     "solution": false
    }
   },
   "outputs": [],
   "source": [
    "assert np.alltrue(M.dot(np.array([0.5, 0.5])) == np.array([0.6, 0.4])) == True"
   ]
  },
  {
   "cell_type": "markdown",
   "metadata": {
    "colab_type": "text",
    "id": "Oay8Hoh04g90"
   },
   "source": [
    "**Exercise 6** (1 point). Calculate the entropy of this distribution $\\begin{bmatrix} 0.6 \\\\ 0.4 \\end{bmatrix}$ in a variable called `H`."
   ]
  },
  {
   "cell_type": "code",
   "execution_count": 12,
   "metadata": {
    "colab": {
     "base_uri": "https://localhost:8080/",
     "height": 34
    },
    "colab_type": "code",
    "id": "yBjON5JM4g91",
    "outputId": "ebe0fcf3-92d9-4fb1-e85f-87cf3a9d7be7"
   },
   "outputs": [
    {
     "name": "stdout",
     "output_type": "stream",
     "text": [
      "[0.97095059]\n"
     ]
    }
   ],
   "source": [
    "#\n",
    "# YOUR CODE HERE\n",
    "p = np.array([[0.6], [0.4]])\n",
    "H = 0\n",
    "for each in p :\n",
    "  H += -each*np.log2(each)\n",
    "print(H)"
   ]
  },
  {
   "cell_type": "markdown",
   "metadata": {
    "colab_type": "text",
    "id": "cizC1Qlq4g94"
   },
   "source": [
    "# Quantum states\n",
    "\n",
    "**Exercise 7** (1 point). A quantum state is a probability distribution. A qubit state is a distribution over two values, similar to the coin flipping in the classical state. A major difference is that the entries are complex numbers and the normalization is in the $l_2$ norm. Create a function similar to `is_stochastic_vector` that checks whether a vector is a valid quantum state. The input is a numpy array and the output should be boolean."
   ]
  },
  {
   "cell_type": "code",
   "execution_count": 13,
   "metadata": {
    "colab": {},
    "colab_type": "code",
    "id": "ntiYVFUJ4g96"
   },
   "outputs": [],
   "source": [
    "def is_quantum_state(psi: np.array):\n",
    "    #\n",
    "    # YOUR CODE HERE\n",
    "    sum_psi = np.sum(np.abs(psi)*np.abs(psi))\n",
    "    if (abs(sum_psi-1) <= 0.05) :\n",
    "      return True\n",
    "    else :\n",
    "      return False"
   ]
  },
  {
   "cell_type": "code",
   "execution_count": 14,
   "metadata": {
    "colab": {},
    "colab_type": "code",
    "id": "Fi291TwK4g99",
    "nbgrader": {
     "grade": true,
     "grade_id": "score7",
     "locked": true,
     "points": "1",
     "solution": false
    }
   },
   "outputs": [],
   "source": [
    "assert is_quantum_state(np.array([1/np.sqrt(2), 1/np.sqrt(2)]))\n",
    "assert is_quantum_state(np.array([-1/np.sqrt(2), 1/np.sqrt(2)]))\n",
    "assert is_quantum_state(np.array([-1/3, 2*np.sqrt(2)/3]))\n",
    "assert is_quantum_state(np.array([0.2, 0.8])) is False"
   ]
  },
  {
   "cell_type": "markdown",
   "metadata": {
    "colab_type": "text",
    "id": "EY0aVY344g9_"
   },
   "source": [
    "**Exercise 8** (1 point). While working with numpy arrays is convenient, it is better to use a framework designed for quantum computing, since it often allows us to execute a circuit directly on a quantum computer. In your preferred framework, implement a circuit of a single qubit with no operation on it. You should create it in an object called `circuit`. Do not add a measurement. The evaluation will automatically branch according to which framework you chose."
   ]
  },
  {
   "cell_type": "code",
   "execution_count": 15,
   "metadata": {
    "ExecuteTime": {
     "end_time": "2018-11-19T19:47:59.562010Z",
     "start_time": "2018-11-19T19:47:58.831645Z"
    },
    "colab": {
     "base_uri": "https://localhost:8080/",
     "height": 367
    },
    "colab_type": "code",
    "id": "P9QXy4oP4g-A",
    "outputId": "cf84a189-6fc8-4065-ae66-594b0252888c"
   },
   "outputs": [],
   "source": [
    "#\n",
    "# YOUR CODE HERE\n",
    "from assignment_helper import *\n",
    "\n",
    "q = QuantumRegister(1)\n",
    "circuit = QuantumCircuit(q)"
   ]
  },
  {
   "cell_type": "code",
   "execution_count": 16,
   "metadata": {
    "colab": {},
    "colab_type": "code",
    "id": "JPYto_x74g-C",
    "nbgrader": {
     "grade": true,
     "grade_id": "score8",
     "locked": true,
     "points": "1",
     "solution": false
    }
   },
   "outputs": [],
   "source": [
    "amplitudes = get_amplitudes(circuit)\n",
    "assert abs(amplitudes[0]-1.0) < 0.01"
   ]
  },
  {
   "cell_type": "markdown",
   "metadata": {
    "colab_type": "text",
    "id": "dT_QmHuO4g-E"
   },
   "source": [
    "**Exercise 9** (1 point). In the execution branching above, you see that we use the wavefunction simulator. This allows us to use the probability amplitudes as usual numpy arrays, as you can see above. If we ran the circuit on an actual quantum device, we would not be able to inspect the wavefunction, but we would have to rely on the statistics of measurements to understand what is happening in the circuit.\n",
    "\n",
    "Create a circuit in your preferred framework that creates an equal superposition in a qubit using a Hadamard gate. Again, the name of the object should be `circuit`. The evaluation will be based on measurement statistics. In this case, you should explicitly specify the measurement on the qubit"
   ]
  },
  {
   "cell_type": "code",
   "execution_count": 17,
   "metadata": {
    "ExecuteTime": {
     "end_time": "2018-11-19T19:47:59.567831Z",
     "start_time": "2018-11-19T19:47:59.563751Z"
    },
    "colab": {},
    "colab_type": "code",
    "id": "TE_maMW44g-E"
   },
   "outputs": [
    {
     "data": {
      "text/plain": [
       "<qiskit.circuit.instructionset.InstructionSet at 0x23ae5849898>"
      ]
     },
     "execution_count": 17,
     "metadata": {},
     "output_type": "execute_result"
    }
   ],
   "source": [
    "#\n",
    "# YOUR CODE HERE\n",
    "\n",
    "c = ClassicalRegister(1)\n",
    "q = QuantumRegister(1)\n",
    "circuit = QuantumCircuit(q, c)\n",
    "circuit.h(q[0])\n",
    "circuit.measure(q, c)"
   ]
  },
  {
   "cell_type": "code",
   "execution_count": 18,
   "metadata": {
    "colab": {},
    "colab_type": "code",
    "id": "Q-m5MMXf4g-G",
    "nbgrader": {
     "grade": true,
     "grade_id": "score9",
     "locked": true,
     "points": "1",
     "solution": false
    },
    "scrolled": true
   },
   "outputs": [],
   "source": [
    "counts = get_counts(circuit)\n",
    "assert abs(counts['0']/100-.5) < 0.2"
   ]
  },
  {
   "cell_type": "markdown",
   "metadata": {
    "colab_type": "text",
    "id": "e0uN48Tm4g-J"
   },
   "source": [
    "**Exercise 10** (1 point). If you plotted the state before measurement on the Bloch sphere, it would have been on the equator halfway between the $|0\\rangle$ and $|1\\rangle$ states, and the tip of the X axis. If you apply the Hadamard on the $|1\\rangle$, it would have been the point on the opposite and of the X axis, since the resulting superposition would have had a -1 amplitude for $|1\\rangle$. The measurement statistics, however, would be identical. The negative sign plays a role in interference: for instance, applying a Hadamard again, would take you back to $|1\\rangle$. Create the superposition after applying the Hadamard gate on $|1\\rangle$. We will verify whether it picked up the phase. Do not include a measurement, since we will inspect the wavefunction."
   ]
  },
  {
   "cell_type": "code",
   "execution_count": 19,
   "metadata": {
    "ExecuteTime": {
     "end_time": "2018-11-19T19:48:00.622667Z",
     "start_time": "2018-11-19T19:48:00.379562Z"
    },
    "colab": {},
    "colab_type": "code",
    "id": "fpZSiaM44g-J"
   },
   "outputs": [
    {
     "data": {
      "text/plain": [
       "<qiskit.circuit.instructionset.InstructionSet at 0x23ae58497f0>"
      ]
     },
     "execution_count": 19,
     "metadata": {},
     "output_type": "execute_result"
    }
   ],
   "source": [
    "#\n",
    "# YOUR CODE HERE\n",
    "c = ClassicalRegister(1)\n",
    "q = QuantumRegister(1)\n",
    "\n",
    "circuit = QuantumCircuit(q)\n",
    "circuit.x(q[0])\n",
    "circuit.h(q[0])"
   ]
  },
  {
   "cell_type": "code",
   "execution_count": 20,
   "metadata": {
    "colab": {},
    "colab_type": "code",
    "id": "Sa1mY8Vw4g-L",
    "nbgrader": {
     "grade": true,
     "grade_id": "score10",
     "locked": true,
     "points": "1",
     "solution": false
    }
   },
   "outputs": [],
   "source": [
    "amplitudes = get_amplitudes(circuit)\n",
    "assert abs(amplitudes[1]+np.sqrt(2)/2) < 0.01"
   ]
  },
  {
   "cell_type": "markdown",
   "metadata": {
    "colab_type": "text",
    "id": "LA8IDcjz4g-O"
   },
   "source": [
    "# More qubits and entanglement\n",
    "\n",
    "**Exercise 11** (1 point). To get a sense of multiqubit states, it is important to be confident with the tensor product operation. Create a function that returns the four basis vectors, $|00\\rangle$, $|01\\rangle$, $|10\\rangle$, and $|11\\rangle$, of the tensor product space $\\mathbb{C}^2\\otimes\\mathbb{C}^2$. The order in which they appear does not matter. The return value should be a list of four numpy arrays."
   ]
  },
  {
   "cell_type": "code",
   "execution_count": 21,
   "metadata": {
    "ExecuteTime": {
     "end_time": "2018-11-19T19:48:00.928395Z",
     "start_time": "2018-11-19T19:48:00.913259Z"
    },
    "colab": {},
    "colab_type": "code",
    "id": "IMpGliNs4g-O"
   },
   "outputs": [
    {
     "data": {
      "text/plain": [
       "[array([1, 0, 0, 0]),\n",
       " array([0, 1, 0, 0]),\n",
       " array([0, 0, 1, 0]),\n",
       " array([0, 0, 0, 1])]"
      ]
     },
     "execution_count": 21,
     "metadata": {},
     "output_type": "execute_result"
    }
   ],
   "source": [
    "def create_canonical_basis():\n",
    "    #\n",
    "    # YOUR CODE HERE\n",
    "    zero = np.array([[1], [0]])\n",
    "    one = np.array([[0], [1]])\n",
    "    result = [np.tensordot(zero, zero, 0), np.tensordot(zero, one, 0), np.tensordot(one, zero, 0), np.tensordot(one, one, 0)]\n",
    "    result = [i.reshape((4, )) for i in result]\n",
    "    return result\n",
    "create_canonical_basis()"
   ]
  },
  {
   "cell_type": "markdown",
   "metadata": {
    "colab_type": "text",
    "id": "RdDG1QwC4g-S"
   },
   "source": [
    "**Exercise 12** (1 point). A generic product state has the form  $\\begin{bmatrix}a_0b_0\\\\ a_0b_1\\\\ a_1b_0\\\\ a_1b_1\\end{bmatrix}=a_0b_0|00\\rangle + a_0b_1|01\\rangle + a_1b_0|10\\rangle + a_1b_1|11\\rangle$ on $\\mathbb{C}^2\\otimes\\mathbb{C}^2$, but not all. We can use the basis vectors to form vectors in the space that do not have a product structure. These are entangled states that show strong correlations. Entanglement is an important resource in quantum computing and being able to create a circuit that generates an entangled state is critical. Implement a circuit in your preferred framework to create the $|\\phi^-\\rangle = \\frac{1}{\\sqrt{2}}(|00\\rangle-|11\\rangle)$ state, that is, almost the same as the $|\\phi^+\\rangle$ state, but with the opposite sign of the probability amplitude of $|11\\rangle$. Do not include a measurement, as we will verify the state with the wavefunction simulator"
   ]
  },
  {
   "cell_type": "code",
   "execution_count": 22,
   "metadata": {
    "ExecuteTime": {
     "end_time": "2018-11-19T19:48:01.146195Z",
     "start_time": "2018-11-19T19:48:00.930859Z"
    },
    "colab": {},
    "colab_type": "code",
    "id": "go5h8mcb4g-S"
   },
   "outputs": [
    {
     "data": {
      "text/plain": [
       "<qiskit.circuit.instructionset.InstructionSet at 0x23ae5864518>"
      ]
     },
     "execution_count": 22,
     "metadata": {},
     "output_type": "execute_result"
    }
   ],
   "source": [
    "#\n",
    "# YOUR CODE HERE\n",
    "c = ClassicalRegister(2)\n",
    "q = QuantumRegister(2)\n",
    "\n",
    "circuit = QuantumCircuit(q, c)\n",
    "circuit.x(q[0])\n",
    "circuit.h(q[0])\n",
    "circuit.cx(q[0], q[1])"
   ]
  },
  {
   "cell_type": "code",
   "execution_count": 23,
   "metadata": {
    "colab": {},
    "colab_type": "code",
    "id": "Muq1EGSx4g-W",
    "nbgrader": {
     "grade": true,
     "grade_id": "score12",
     "locked": true,
     "points": "1",
     "solution": false
    }
   },
   "outputs": [],
   "source": [
    "amplitudes = get_amplitudes(circuit)\n",
    "assert all(np.isclose(np.array([np.sqrt(2)/2, 0, 0, -np.sqrt(2)/2]), amplitudes))"
   ]
  },
  {
   "cell_type": "markdown",
   "metadata": {
    "colab_type": "text",
    "id": "wKZ8JjHI4g-Y"
   },
   "source": [
    "# Measurements\n",
    "\n",
    "**Exercise 1** (1 point). Measurements in the quantum computers we can access today always measure in the computational basis. This means that either the projection $|0\\rangle\\langle 0|$ or the $|1\\rangle\\langle 1|$ is applied on the qubit we are measuring, corresponding to the outcome 0 or 1. The Born rule tells us that we get either of these with the probability of the absolute value of the probability amplitde squared. The qubit afterwards is $|0\\rangle$ or $|1\\rangle$, respectively.\n",
    "\n",
    "First, create circuit in your preferred framewrok with one quantum and two classical registers. The object should be called `circuit`."
   ]
  },
  {
   "cell_type": "code",
   "execution_count": 24,
   "metadata": {
    "colab": {},
    "colab_type": "code",
    "id": "82GXMZW_4g-Z"
   },
   "outputs": [],
   "source": [
    "#\n",
    "# YOUR CODE HERE\n",
    "c = ClassicalRegister(2)\n",
    "q = QuantumRegister(1)\n",
    "circuit = QuantumCircuit(q, c)"
   ]
  },
  {
   "cell_type": "markdown",
   "metadata": {
    "colab_type": "text",
    "id": "kNNVVW3g4g-b"
   },
   "source": [
    "**Exercise 2** (1 point). Next, extend the circuit with a Hadamard gate and a measurement on the qubit. Write the measurement result in the first classical register. You will get a probabilistic outcome of 0 or 1."
   ]
  },
  {
   "cell_type": "code",
   "execution_count": 25,
   "metadata": {
    "colab": {},
    "colab_type": "code",
    "id": "35rg0zIa4g-d"
   },
   "outputs": [
    {
     "data": {
      "text/plain": [
       "<qiskit.circuit.instructionset.InstructionSet at 0x23ae5864c88>"
      ]
     },
     "execution_count": 25,
     "metadata": {},
     "output_type": "execute_result"
    }
   ],
   "source": [
    "#\n",
    "# YOUR CODE HERE\n",
    "circuit.h(q[0])\n",
    "circuit.measure(q[0], c[0])"
   ]
  },
  {
   "cell_type": "markdown",
   "metadata": {
    "colab_type": "text",
    "id": "ubFbiURF4g-f"
   },
   "source": [
    "**Exercise 3** (1 point). To see that the quantum state collapses to the basis state indicated by the outcome, apply a second measurement on the same circuit, but write the result in the second register. Executing the program should always give the same outcome in the two subsequent measurements."
   ]
  },
  {
   "cell_type": "code",
   "execution_count": 26,
   "metadata": {
    "colab": {},
    "colab_type": "code",
    "id": "J-C61cOr4g-g"
   },
   "outputs": [
    {
     "data": {
      "text/plain": [
       "<qiskit.circuit.instructionset.InstructionSet at 0x23ae5864240>"
      ]
     },
     "execution_count": 26,
     "metadata": {},
     "output_type": "execute_result"
    }
   ],
   "source": [
    "#\n",
    "# YOUR CODE HERE\n",
    "#circuit.h(q[0]) operation is already done in Exercise 2\n",
    "circuit.measure(q[0], c[1])"
   ]
  },
  {
   "cell_type": "markdown",
   "metadata": {
    "colab_type": "text",
    "id": "-VVdfZlV4g-i"
   },
   "source": [
    "# Measuring multiqubit systems\n",
    "\n",
    "**Exercise 4** (1 point). We typically work with local measurements, meaning that the qubits are measured separately. Create a two-qubit circuit with measurements included that reproduces the uniform distribution on four outcomes."
   ]
  },
  {
   "cell_type": "code",
   "execution_count": 27,
   "metadata": {
    "colab": {},
    "colab_type": "code",
    "id": "Y_iblA5Z4g-j"
   },
   "outputs": [
    {
     "data": {
      "image/png": "[encoded data removed]",
      "text/plain": [
       "<Figure size 504x360 with 1 Axes>"
      ]
     },
     "execution_count": 27,
     "metadata": {},
     "output_type": "execute_result"
    }
   ],
   "source": [
    "#\n",
    "# YOUR CODE HERE\n",
    "from qiskit.visualization import plot_histogram\n",
    "\n",
    "c = ClassicalRegister(2)\n",
    "q = QuantumRegister(2)\n",
    "\n",
    "circuit = QuantumCircuit(q, c)\n",
    "circuit.h(q[0])\n",
    "circuit.h(q[1])\n",
    "circuit.measure(q[0], c[0])\n",
    "circuit.measure(q[1], c[1])\n",
    "\n",
    "hist = get_counts(circuit)\n",
    "plot_histogram(hist)"
   ]
  },
  {
   "cell_type": "markdown",
   "metadata": {
    "colab_type": "text",
    "id": "PBzTgi6k4g-l"
   },
   "source": [
    "**Exercise 5** (1 point). This is a typical product state, showing no correlation between the qubits. In contrast, if you make simultaneous measurements on an entangled state, for instance the $|\\phi^+\\rangle$ or the $|\\phi^-\\rangle$ state, the measurement outcomes will be correlated. Create either of these states and measure both qubits."
   ]
  },
  {
   "cell_type": "code",
   "execution_count": 28,
   "metadata": {
    "colab": {},
    "colab_type": "code",
    "id": "-Dz_lwMN4g-l"
   },
   "outputs": [
    {
     "data": {
      "image/png": "[encoded data removed]",
      "text/plain": [
       "<Figure size 504x360 with 1 Axes>"
      ]
     },
     "execution_count": 28,
     "metadata": {},
     "output_type": "execute_result"
    }
   ],
   "source": [
    "#\n",
    "# YOUR CODE HERE\n",
    "c = ClassicalRegister(2)\n",
    "q = QuantumRegister(2)\n",
    "\n",
    "circuit = QuantumCircuit(q, c)\n",
    "circuit.x(q[0])\n",
    "circuit.h(q[0])\n",
    "circuit.cx(q[0], q[1])\n",
    "\n",
    "circuit.measure(q[0], c[0])\n",
    "circuit.measure(q[1], c[1])\n",
    "\n",
    "hist = get_counts(circuit)\n",
    "plot_histogram(hist)"
   ]
  },
  {
   "cell_type": "markdown",
   "metadata": {
    "colab_type": "text",
    "id": "HRpDCYH54g-n"
   },
   "source": [
    "Notice that we only observe 00 and 11 as outcomes, even though we made measurements on two spatially separated qubits. If one measurement gives a value, the other one always give the same. "
   ]
  },
  {
   "cell_type": "markdown",
   "metadata": {
    "colab_type": "text",
    "id": "9yUynns84g-o"
   },
   "source": [
    "# Mixed states\n",
    "\n",
    "**Exercise 6** (1 point). The density matrix formalism is critical in understanding noise models and decoherence, so it is indispensible to start working with current and near-future quantum computers. Many simulator backends provide noise models, but it is out of scope for this course to develop a deep understanding of it.\n",
    "\n",
    "Instead, let's use the wavefunction simulator to create the (maximally) entangled state $|\\phi^+\\rangle$. The object should be called circuit and do not include measurements. Your circuit should be in an object called `circuit`."
   ]
  },
  {
   "cell_type": "code",
   "execution_count": 29,
   "metadata": {
    "colab": {},
    "colab_type": "code",
    "id": "ZIhcQlp94g-o"
   },
   "outputs": [
    {
     "data": {
      "text/plain": [
       "<qiskit.circuit.instructionset.InstructionSet at 0x23ae57fd1d0>"
      ]
     },
     "execution_count": 29,
     "metadata": {},
     "output_type": "execute_result"
    }
   ],
   "source": [
    "#\n",
    "# YOUR CODE HERE\n",
    "c = ClassicalRegister(2)\n",
    "q = QuantumRegister(2)\n",
    "\n",
    "circuit = QuantumCircuit(q, c)\n",
    "circuit.h(q[0])\n",
    "circuit.cx(q[0], q[1])\n",
    "#get_amplitudes(circuit)"
   ]
  },
  {
   "cell_type": "markdown",
   "metadata": {
    "colab_type": "text",
    "id": "IY-h6taN4g-r"
   },
   "source": [
    "**Exercise 7** (1 point). Create the density matrix called `dm` of the probability amplitudes contained in the `amplitudes` array. Recall that you need a ket and a bra in this order to produce it, but the shape of the `amplitudes` array is incorrect for transposition. Reshape it first"
   ]
  },
  {
   "cell_type": "code",
   "execution_count": 30,
   "metadata": {
    "colab": {},
    "colab_type": "code",
    "id": "5Ka1lCrK4g-r"
   },
   "outputs": [],
   "source": [
    "#\n",
    "# YOUR CODE HERE\n",
    "def dm_function(amplitudes) :\n",
    "    amplitudes = amplitudes.reshape(2,2)\n",
    "    bra = np.array([amplitudes[:,0]])\n",
    "    ket = bra.T.conj()\n",
    "    dm = ket @ bra\n",
    "    return dm\n",
    "\n",
    "#dm_function(amplitudes)"
   ]
  },
  {
   "cell_type": "markdown",
   "metadata": {
    "colab_type": "text",
    "id": "815EF_0G4g-u"
   },
   "source": [
    "Taking the partial trace of a density matrix is the equivalent of taking the marginal of a joint probability distribution along one random variable. If we take the partial trace of this density matrix in any of the qubit subsystems, we are going to get the maximally mixed state, that is, the uniform distribution over the remaining system. This reflects the strong correlation between the two subsystems: if we marginalize over one, we have no predictive power over the other one. We exploit this property when we create protocols for preparing thermal states."
   ]
  },
  {
   "cell_type": "markdown",
   "metadata": {
    "colab_type": "text",
    "id": "5uOFGeTW4g-v"
   },
   "source": [
    "\n",
    "# Unitary evolution\n",
    "\n",
    "**Exercise 1** (1 point). The conjugate transpose of a unitary matrix is its inverse. Write a function that checks if a $2\\times 2$ numpy array is unitary."
   ]
  },
  {
   "cell_type": "code",
   "execution_count": 31,
   "metadata": {
    "colab": {},
    "colab_type": "code",
    "id": "_PZsaZQc4g-v"
   },
   "outputs": [],
   "source": [
    "def is_unitary(matrix):\n",
    "    \n",
    "    #\n",
    "    # YOUR CODE HERE\n",
    "    conj_matrix = matrix.T.conj()\n",
    "    if (matrix @ conj_matrix == conj_matrix @ matrix).all():\n",
    "        return True\n",
    "    else :\n",
    "        return False"
   ]
  },
  {
   "cell_type": "code",
   "execution_count": 32,
   "metadata": {
    "colab": {},
    "colab_type": "code",
    "id": "Ebjj7yWr4g-x"
   },
   "outputs": [],
   "source": [
    "X = np.array([[0, 1], [1, 0]])\n",
    "H = 1/np.sqrt(2)*np.array([[1, 1], [1, -1]])\n",
    "random_matrix = np.random.rand(2, 2)\n",
    "assert is_unitary(X)\n",
    "assert is_unitary(H)\n",
    "assert is_unitary(random_matrix) is False"
   ]
  },
  {
   "cell_type": "markdown",
   "metadata": {
    "colab_type": "text",
    "id": "Anq3cQBe4g-0"
   },
   "source": [
    "**Exercise 2** (1 point). The eigenvalues of unitary operators always lie on the complex unit circle. We exploit this property over and over again. For instance, the quantum phase estimation algorithm estimates the eigenvalues through the phase that describes the eigenvalues angle on the complex unit circle. Calculate the eigenvalues of the Hadamard gate and store them in a numpy array called `eigenvalues`."
   ]
  },
  {
   "cell_type": "code",
   "execution_count": 33,
   "metadata": {
    "colab": {},
    "colab_type": "code",
    "id": "6oy8KvXJ4g-1"
   },
   "outputs": [],
   "source": [
    "#\n",
    "# YOUR CODE HERE\n",
    "H = 1/np.sqrt(2)*np.array([[1, 1], [1, -1]])\n",
    "result, unnecessary = np.linalg.eig(H)\n",
    "eigenvalues = result"
   ]
  },
  {
   "cell_type": "markdown",
   "metadata": {
    "colab_type": "text",
    "id": "_HFm2Ebs4g-4"
   },
   "source": [
    "**Exercise 3** (1 point). Unitary operations are reversible. In fact, we often reverse them on purpose: this is called uncomputing, and used, for instance, in the quantum matrix inversion algorithm that underlies many coherent quantum machine learning protocols. The reason we do that is to remove the entanglement we might have created, so that tracing out a subsystem would not interfere with our calculations (the remaining system will not be a mixed state). Create a circuit in your preferred framework that applies the X and H gates in this sequence. The circuit should be in an object called `circuit`."
   ]
  },
  {
   "cell_type": "code",
   "execution_count": 34,
   "metadata": {
    "colab": {},
    "colab_type": "code",
    "id": "rLkkdzgZ4g-4"
   },
   "outputs": [
    {
     "data": {
      "text/plain": [
       "<qiskit.circuit.instructionset.InstructionSet at 0x23ae57fdb70>"
      ]
     },
     "execution_count": 34,
     "metadata": {},
     "output_type": "execute_result"
    }
   ],
   "source": [
    "#\n",
    "# YOUR CODE HERE\n",
    "q = QuantumRegister(1)\n",
    "\n",
    "circuit = QuantumCircuit(q)\n",
    "circuit.x(q[0])\n",
    "circuit.h(q[0])"
   ]
  },
  {
   "cell_type": "code",
   "execution_count": 35,
   "metadata": {
    "colab": {},
    "colab_type": "code",
    "id": "mGbxfKpy4g-7"
   },
   "outputs": [],
   "source": [
    "from assignment_helper import get_amplitudes\n",
    "amplitudes = get_amplitudes(circuit)\n",
    "assert all(np.isclose(amplitudes, np.array([1/np.sqrt(2), -1/np.sqrt(2)])))"
   ]
  },
  {
   "cell_type": "markdown",
   "metadata": {
    "colab_type": "text",
    "id": "ewT8MKKY4g-9"
   },
   "source": [
    "**Exercise 4** (1 point). Extend this circuit to reverse the calculations you have done."
   ]
  },
  {
   "cell_type": "code",
   "execution_count": 36,
   "metadata": {
    "colab": {},
    "colab_type": "code",
    "id": "VoI_NrW_4g--"
   },
   "outputs": [
    {
     "data": {
      "text/plain": [
       "<qiskit.circuit.instructionset.InstructionSet at 0x23ae5873208>"
      ]
     },
     "execution_count": 36,
     "metadata": {},
     "output_type": "execute_result"
    }
   ],
   "source": [
    "#\n",
    "# YOUR CODE HERE\n",
    "circuit.h(q[0])\n",
    "circuit.x(q[0])"
   ]
  },
  {
   "cell_type": "code",
   "execution_count": 37,
   "metadata": {
    "colab": {},
    "colab_type": "code",
    "id": "EUWXIAJ74g_A"
   },
   "outputs": [],
   "source": [
    "amplitudes = get_amplitudes(circuit)\n",
    "program_length = get_circuit_length(circuit)\n",
    "assert all(np.isclose(amplitudes, np.array([1, 0]))), \"The circuit is not successfully reversed\"\n",
    "assert program_length == 4, \"The circuit does not have the right number of gates\""
   ]
  }
 ],
 "metadata": {
  "colab": {
   "collapsed_sections": [
    "LA8IDcjz4g-O",
    "wKZ8JjHI4g-Y",
    "-VVdfZlV4g-i",
    "9yUynns84g-o",
    "5uOFGeTW4g-v"
   ],
   "name": "Copy of 1.IntroToQiskit_ProbDist_Measurement_Evolution_Practice.ipynb",
   "provenance": []
  },
  "kernelspec": {
   "display_name": "Python 3",
   "language": "python",
   "name": "python3"
  },
  "language_info": {
   "codemirror_mode": {
    "name": "ipython",
    "version": 3
   },
   "file_extension": ".py",
   "mimetype": "text/x-python",
   "name": "python",
   "nbconvert_exporter": "python",
   "pygments_lexer": "ipython3",
   "version": "3.7.1"
  }
 },
 "nbformat": 4,
 "nbformat_minor": 1
}
